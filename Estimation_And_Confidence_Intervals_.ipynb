{
  "nbformat": 4,
  "nbformat_minor": 0,
  "metadata": {
    "colab": {
      "provenance": [],
      "authorship_tag": "ABX9TyOHmenjgmJJU/JXcCXQ7FOr",
      "include_colab_link": true
    },
    "kernelspec": {
      "name": "python3",
      "display_name": "Python 3"
    },
    "language_info": {
      "name": "python"
    }
  },
  "cells": [
    {
      "cell_type": "markdown",
      "metadata": {
        "id": "view-in-github",
        "colab_type": "text"
      },
      "source": [
        "<a href=\"https://colab.research.google.com/github/gurram46/gurram46-Estimation-And-Confidence-Intervals/blob/main/Estimation_And_Confidence_Intervals_.ipynb\" target=\"_parent\"><img src=\"https://colab.research.google.com/assets/colab-badge.svg\" alt=\"Open In Colab\"/></a>"
      ]
    },
    {
      "cell_type": "markdown",
      "source": [
        "This is a Scenaro based assignemet\n",
        "\n",
        "# Background :\n",
        "In quality control processes, especially when dealing with high-value items, destructive sampling is a necessary but costly method to ensure product quality. The test to determine whether an item meets the quality standards destroys the item, leading to the requirement of small sample sizes due to cost constraints.\n",
        "\n",
        "**Understanding :**\n",
        "In quality control, destructive sampling is costly but necessary. Since testing destroys the item, only small samples can be tested to control costs.\n",
        "\n",
        "# Scenario:\n",
        "A manufacturer of print-heads for personal computers is interested in estimating the mean durability of their print-heads in terms of the number of characters printed before failure. To assess this, the manufacturer conducts a study on a small sample of print-heads due to the destructive nature of the testing process.\n",
        "\n",
        "**Understanding :**\n",
        "A manufacturer wants to estimate the mean durability of print-heads (measured in millions of characters printed before failure) through destructive testing. They tested 15 randomly selected print-heads\n"
      ],
      "metadata": {
        "id": "uiQVDv0mf9T2"
      }
    },
    {
      "cell_type": "markdown",
      "source": [
        "# Data:\n",
        "A total of 15 print-heads were randomly selected and tested until failure. The durability of each print-head (in millions of characters) was recorded as follows:\n",
        "1.13, 1.55, 1.43, 0.92, 1.25, 1.36, 1.32, 0.85, 1.07, 1.48, 1.20, 1.33, 1.18, 1.22, 1.29\n",
        "\n",
        "**Understanding :**\n",
        "This dataset will be used to analyze the mean durability of the print-heads and estimate the population mean through confidence intervals. Given the small sample size, the study needs to account for the sample standard deviation or, if available, the known population standard deviation to ensure accurate interval estimation"
      ],
      "metadata": {
        "id": "C2gzRrFsgyMG"
      }
    },
    {
      "cell_type": "markdown",
      "source": [
        "# Assignment Tasks\n",
        "\n",
        "# Task-1\n",
        "**Build 99% Confidence Interval Using Sample Standard Deviation**\n",
        "\n",
        "Assuming the sample is representative of the population, construct a 99% confidence interval for the mean number of characters printed before the print-head fails using the sample standard deviation. Explain the steps you take and the rationale behind using the t-distribution for this task.\n",
        "\n"
      ],
      "metadata": {
        "id": "5ukvNUA7iEAv"
      }
    },
    {
      "cell_type": "markdown",
      "source": [
        "**Goal**: Estimate the mean durability using the sample standard deviation.\n",
        "\n",
        "**Why t-Distribution?**: Small sample size (n = 15) and unknown population standard deviation require t-distribution for accuracy"
      ],
      "metadata": {
        "id": "s5I9Y1Sfic8x"
      }
    },
    {
      "cell_type": "code",
      "source": [
        "import numpy as np\n",
        "from scipy import stats"
      ],
      "metadata": {
        "id": "h4R6PKJLinqy"
      },
      "execution_count": 2,
      "outputs": []
    },
    {
      "cell_type": "markdown",
      "source": [
        "\n",
        "\n",
        "*   we are using numpy to perform efficient numerical operations such as  calculating mean and standard deviation\n",
        "\n",
        "*   To access statistical functions like t-distribution and z-distribution critical values"
      ],
      "metadata": {
        "id": "psgN2oEHi7D2"
      }
    },
    {
      "cell_type": "code",
      "source": [
        "data= [1.13, 1.55, 1.43, 0.92, 1.25, 1.36, 1.32, 0.85, 1.07, 1.48, 1.20, 1.33, 1.18, 1.22, 1.29]\n",
        "n=len(data)"
      ],
      "metadata": {
        "id": "xsrI2IbFi6it"
      },
      "execution_count": 3,
      "outputs": []
    },
    {
      "cell_type": "markdown",
      "source": [
        "\n",
        "\n",
        "*   Here we are loading the data which is given creating a list name is data\n",
        "*   And n is a variable we're using to store the number of data points in the dataset\n",
        "\n"
      ],
      "metadata": {
        "id": "aVYKNX2Ckec2"
      }
    },
    {
      "cell_type": "code",
      "source": [
        "sample_mean = np.mean(data)\n",
        "sample_mean"
      ],
      "metadata": {
        "colab": {
          "base_uri": "https://localhost:8080/"
        },
        "id": "TWukNtQ1lAiH",
        "outputId": "c6bcf215-ec3f-4bdc-e086-f4293a779841"
      },
      "execution_count": 4,
      "outputs": [
        {
          "output_type": "execute_result",
          "data": {
            "text/plain": [
              "1.2386666666666666"
            ]
          },
          "metadata": {},
          "execution_count": 4
        }
      ]
    },
    {
      "cell_type": "markdown",
      "source": [
        "\n",
        "\n",
        "*   Here we calucating the mean of the data using numpay\n",
        "\n",
        "*   The mean of the data is 1.2386666666666666\n",
        "\n"
      ],
      "metadata": {
        "id": "lmxHb6wvlOck"
      }
    },
    {
      "cell_type": "code",
      "source": [
        "sample_std = np.std(data, ddof=1)\n",
        "sample_std"
      ],
      "metadata": {
        "colab": {
          "base_uri": "https://localhost:8080/"
        },
        "id": "-o7ID2RWlfwO",
        "outputId": "a1d77fc9-4f52-4b4e-bd30-16e789e3eb88"
      },
      "execution_count": 5,
      "outputs": [
        {
          "output_type": "execute_result",
          "data": {
            "text/plain": [
              "0.19316412956959936"
            ]
          },
          "metadata": {},
          "execution_count": 5
        }
      ]
    },
    {
      "cell_type": "markdown",
      "source": [
        "\n",
        "\n",
        "*   Now we are using numpy for sample standard devation\n",
        "\n",
        "*   The sample standard devation for data is 0.19316412956959936\n",
        "\n"
      ],
      "metadata": {
        "id": "aT8qlSIilxX8"
      }
    },
    {
      "cell_type": "code",
      "source": [
        "df = n - 1\n",
        "df"
      ],
      "metadata": {
        "colab": {
          "base_uri": "https://localhost:8080/"
        },
        "id": "nzd87tcImRg-",
        "outputId": "dba9a6c0-3035-4f7d-895c-2b2c8e2fa118"
      },
      "execution_count": 6,
      "outputs": [
        {
          "output_type": "execute_result",
          "data": {
            "text/plain": [
              "14"
            ]
          },
          "metadata": {},
          "execution_count": 6
        }
      ]
    },
    {
      "cell_type": "markdown",
      "source": [
        "**Degree of freedom :**\n",
        "\n",
        "Dof is defined as the number of independent parameters required to specify the locationof every link with in the mechanism completely.\n",
        "\n",
        "dof=n-1"
      ],
      "metadata": {
        "id": "yaUBuL7_ne1C"
      }
    },
    {
      "cell_type": "code",
      "source": [
        "t_value = stats.t.ppf(0.995, df)\n",
        "t_value"
      ],
      "metadata": {
        "colab": {
          "base_uri": "https://localhost:8080/"
        },
        "id": "GnEApR9WncgF",
        "outputId": "96d920bc-fbd8-47e1-e2fb-435cafda0e69"
      },
      "execution_count": 7,
      "outputs": [
        {
          "output_type": "execute_result",
          "data": {
            "text/plain": [
              "2.976842734370834"
            ]
          },
          "metadata": {},
          "execution_count": 7
        }
      ]
    },
    {
      "cell_type": "markdown",
      "source": [
        "\n",
        "\n",
        "\n",
        "*   Here we find the Critical t-Value for 99% Confidence Level\n",
        "*   99% confidence level corresponds to 0.995 for two-tailed\n",
        "*   The value of t_value is 2.9768\n",
        "\n",
        "\n",
        "\n",
        "\n",
        "\n"
      ],
      "metadata": {
        "id": "r8BkfwcKpt4C"
      }
    },
    {
      "cell_type": "code",
      "source": [
        "margin_of_error=t_value * (sample_std / np.sqrt(n))\n",
        "margin_of_error"
      ],
      "metadata": {
        "id": "gBOiWLHbokCL",
        "colab": {
          "base_uri": "https://localhost:8080/"
        },
        "outputId": "0349602f-369e-4b98-8d8b-7b204306d42d"
      },
      "execution_count": 10,
      "outputs": [
        {
          "output_type": "execute_result",
          "data": {
            "text/plain": [
              "0.14846932822817596"
            ]
          },
          "metadata": {},
          "execution_count": 10
        }
      ]
    },
    {
      "cell_type": "markdown",
      "source": [
        "\n",
        "\n",
        "*   Here we are calculating margin of error by using numpy\n",
        "*   The value of margin of errors is 0.14846\n",
        "\n"
      ],
      "metadata": {
        "id": "vi-s0toEqlFE"
      }
    },
    {
      "cell_type": "code",
      "source": [
        "confidence_interval= (sample_mean-margin_of_error,sample_mean+margin_of_error)\n",
        "confidence_interval"
      ],
      "metadata": {
        "colab": {
          "base_uri": "https://localhost:8080/"
        },
        "id": "MQUeL9hkrcyk",
        "outputId": "6cb07673-23af-4074-b170-95b34a21dafa"
      },
      "execution_count": 16,
      "outputs": [
        {
          "output_type": "execute_result",
          "data": {
            "text/plain": [
              "(1.0901973384384906, 1.3871359948948425)"
            ]
          },
          "metadata": {},
          "execution_count": 16
        }
      ]
    },
    {
      "cell_type": "markdown",
      "source": [
        "# Confidence interval:\n",
        "we are calicating the confdence interval using sample maen,margin of error\n",
        "\n",
        "The the value of Confidence interval is lie between 1.09019 to 1.38713"
      ],
      "metadata": {
        "id": "w7tEcwi3tHLC"
      }
    },
    {
      "cell_type": "code",
      "source": [
        "print(f\"99% Confidence interval (Using Sample Standard Deviation):{confidence_interval}\")"
      ],
      "metadata": {
        "colab": {
          "base_uri": "https://localhost:8080/"
        },
        "id": "VbG6Dwt7sD1C",
        "outputId": "e2224658-c1c2-4162-9326-cfa698446250"
      },
      "execution_count": 17,
      "outputs": [
        {
          "output_type": "stream",
          "name": "stdout",
          "text": [
            "99% Confidence interval (Using Sample Standard Deviation):(1.0901973384384906, 1.3871359948948425)\n"
          ]
        }
      ]
    },
    {
      "cell_type": "markdown",
      "source": [
        "This confidence interval tells you that, with 99% confidence, the true mean number of characters printed before the print-head fails lies between 1.090 and 1.387 million characters."
      ],
      "metadata": {
        "id": "antHLhdar4MT"
      }
    },
    {
      "cell_type": "markdown",
      "source": [
        "# Task-2\n",
        " **Build 99% Confidence Interval Using Known Population Standard Deviation**\n",
        "\n",
        " If it were known that the population standard deviation is 0.2 million characters, construct a 99% confidence interval for the mean number of characters printed before failure.\n",
        "\n",
        " Goal:\n",
        "\n",
        " To estimate the range (confidence interval) in which the true mean durability of print-heads lies, with 99% confidence, using the known population standard deviation"
      ],
      "metadata": {
        "id": "M2P6u8HguRMl"
      }
    },
    {
      "cell_type": "code",
      "source": [
        "population_std=0.2"
      ],
      "metadata": {
        "id": "gPoRuacvts_Z"
      },
      "execution_count": 18,
      "outputs": []
    },
    {
      "cell_type": "markdown",
      "source": [
        "In task to first we have to load the data but we have used the data ready in the Task-1 so there is no need to load the data and there is no need to import numpy and stats from scipy and The population standard deviation is alrady provided which is o.2"
      ],
      "metadata": {
        "id": "n6pJuS2YworF"
      }
    },
    {
      "cell_type": "code",
      "source": [
        "sample_mean = np.mean(data)\n",
        "sample_mean"
      ],
      "metadata": {
        "colab": {
          "base_uri": "https://localhost:8080/"
        },
        "id": "8CaJauvQxaZW",
        "outputId": "48db21ad-8470-40f3-b93f-b15d61df34dd"
      },
      "execution_count": 19,
      "outputs": [
        {
          "output_type": "execute_result",
          "data": {
            "text/plain": [
              "1.2386666666666666"
            ]
          },
          "metadata": {},
          "execution_count": 19
        }
      ]
    },
    {
      "cell_type": "markdown",
      "source": [
        "So we are calucalating the sample mean which is 1.23866.."
      ],
      "metadata": {
        "id": "lTh-Wna0xlZJ"
      }
    },
    {
      "cell_type": "code",
      "source": [
        "z_value = stats.norm.ppf(0.995)\n",
        "z_value"
      ],
      "metadata": {
        "colab": {
          "base_uri": "https://localhost:8080/"
        },
        "id": "nGrtZRBFxszY",
        "outputId": "933ac4c3-79b2-4982-a9d1-ae91ce664eff"
      },
      "execution_count": 22,
      "outputs": [
        {
          "output_type": "execute_result",
          "data": {
            "text/plain": [
              "2.5758293035489004"
            ]
          },
          "metadata": {},
          "execution_count": 22
        }
      ]
    },
    {
      "cell_type": "markdown",
      "source": [
        "\n",
        "\n",
        "*   Here we find the Critical z-Value for 99% Confidence Level\n",
        "*   99% confidence level corresponds to 0.995 for two-tailed\n",
        "*   The value of z_value is 2.5758\n",
        "\n",
        "\n",
        "\n"
      ],
      "metadata": {
        "id": "W2Ut4md9x9_P"
      }
    },
    {
      "cell_type": "code",
      "source": [
        "margin_of_error = z_value * (population_std/np.sqrt(n))\n",
        "margin_of_error"
      ],
      "metadata": {
        "colab": {
          "base_uri": "https://localhost:8080/"
        },
        "id": "sCQVSNNey94Z",
        "outputId": "d9214a7e-0dfc-4a9d-f5c0-b98d1c1ce626"
      },
      "execution_count": 23,
      "outputs": [
        {
          "output_type": "execute_result",
          "data": {
            "text/plain": [
              "0.13301525327090588"
            ]
          },
          "metadata": {},
          "execution_count": 23
        }
      ]
    },
    {
      "cell_type": "markdown",
      "source": [
        "We are calucating the margin_of_error by using z_value,population_std and sqrt(n)"
      ],
      "metadata": {
        "id": "T6dd6Z0tzR7n"
      }
    },
    {
      "cell_type": "code",
      "source": [
        "confidence_interval = (sample_mean - margin_of_error, sample_mean + margin_of_error)\n",
        "confidence_interval"
      ],
      "metadata": {
        "colab": {
          "base_uri": "https://localhost:8080/"
        },
        "id": "vu5BK2GMzkXB",
        "outputId": "fd9661b4-665b-4251-a330-6ecbe5972102"
      },
      "execution_count": 24,
      "outputs": [
        {
          "output_type": "execute_result",
          "data": {
            "text/plain": [
              "(1.1056514133957607, 1.3716819199375725)"
            ]
          },
          "metadata": {},
          "execution_count": 24
        }
      ]
    },
    {
      "cell_type": "markdown",
      "source": [
        "we are calicating the confdence interval using sample maen,margin of error\n",
        "\n",
        "The the value of Confidence interval is lie between 1.105651 to 1.3716819"
      ],
      "metadata": {
        "id": "g5KNDFGxz6-Z"
      }
    },
    {
      "cell_type": "code",
      "source": [
        "print(f\"99% confidence_interval (using known population standrad devation): {confidence_interval}\")"
      ],
      "metadata": {
        "colab": {
          "base_uri": "https://localhost:8080/"
        },
        "id": "2xouJWt-z3AT",
        "outputId": "46760308-9eff-43b6-ac14-e747ad641725"
      },
      "execution_count": 25,
      "outputs": [
        {
          "output_type": "stream",
          "name": "stdout",
          "text": [
            "99% confidence_interval (using known population standrad devation): (1.1056514133957607, 1.3716819199375725)\n"
          ]
        }
      ]
    },
    {
      "cell_type": "markdown",
      "source": [
        "This confidence interval tells you that, with 99% confidence, the true mean number of characters printed before the print-head fails lies between 1.204 and 1.396 million characters"
      ],
      "metadata": {
        "id": "BbQtFYp_0oA8"
      }
    }
  ]
}